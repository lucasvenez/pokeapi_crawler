{
  "nbformat": 4,
  "nbformat_minor": 0,
  "metadata": {
    "colab": {
      "name": "Untitled1.ipynb",
      "provenance": [],
      "collapsed_sections": []
    },
    "kernelspec": {
      "name": "python3",
      "display_name": "Python 3"
    },
    "language_info": {
      "name": "python"
    }
  },
  "cells": [
    {
      "cell_type": "code",
      "execution_count": 41,
      "metadata": {
        "colab": {
          "base_uri": "https://localhost:8080/"
        },
        "id": "YDbbiYrqqCbU",
        "outputId": "4e5a4c75-28c8-4381-b784-e176b0200cd2"
      },
      "outputs": [
        {
          "output_type": "execute_result",
          "data": {
            "text/plain": [
              "[('bulbasaur',\n",
              "  1,\n",
              "  ['overgrow', 'chlorophyll'],\n",
              "  64,\n",
              "  'https://pokeapi.co/api/v2/pokemon/1/encounters'),\n",
              " ('ivysaur',\n",
              "  2,\n",
              "  ['overgrow', 'chlorophyll'],\n",
              "  142,\n",
              "  'https://pokeapi.co/api/v2/pokemon/2/encounters'),\n",
              " ('venusaur',\n",
              "  3,\n",
              "  ['overgrow', 'chlorophyll'],\n",
              "  263,\n",
              "  'https://pokeapi.co/api/v2/pokemon/3/encounters'),\n",
              " ('charmander',\n",
              "  5,\n",
              "  ['blaze', 'solar-power'],\n",
              "  62,\n",
              "  'https://pokeapi.co/api/v2/pokemon/4/encounters')]"
            ]
          },
          "metadata": {},
          "execution_count": 41
        }
      ],
      "source": [
        "import requests\n",
        "\n",
        "def get_pokemon_names_from_ids(*ids):\n",
        "\n",
        "  result = []\n",
        "\n",
        "  for _id in ids:\n",
        "    url = 'https://pokeapi.co/api/v2/pokemon/' + str(_id)\n",
        "    response = requests.get(url)\n",
        "    r = response.json()\n",
        "\n",
        "    abilities = [s['ability']['name'] for s in r['abilities']]\n",
        "\n",
        "    name = r['name']\n",
        "    poke_loc = r['location_area_encounters']\n",
        "    order = r['order']\n",
        "    base = r['base_experience']\n",
        "    result.append((name, order, abilities,base,poke_loc))\n",
        "\n",
        "  return result\n",
        "\n",
        "get_pokemon_names_from_ids(1, 2, 3, 4)"
      ]
    }
  ]
}