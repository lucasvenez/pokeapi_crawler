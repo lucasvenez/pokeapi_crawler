{
  "nbformat": 4,
  "nbformat_minor": 0,
  "metadata": {
    "colab": {
      "name": "API-POKEMON-TAMARA.ipynb",
      "provenance": []
    },
    "kernelspec": {
      "name": "python3",
      "display_name": "Python 3"
    },
    "language_info": {
      "name": "python"
    }
  },
  "cells": [
    {
      "cell_type": "markdown",
      "source": [
        "INSTITUTO FEDERAL DE EDUCAÇÃO, CIÊNCIA E TECNOLOGIA DE SÃO PAULO <br>\n",
        "TECNOLOGIA EM ANÁLISE E DESENVOLVIMENTO DE SISTEMAS <br>\n",
        "GSOI5 - GERENCIAMENTO DE SISTEMAS OPERACIONAIS SERVIDORES <br>\n",
        "PROF. LUCAS VENEZIAN <br>\n",
        "JC3009025 - TAMARA RAQUEL DA SILVA"
      ],
      "metadata": {
        "id": "AK3qI3Ly66Dz"
      }
    },
    {
      "cell_type": "markdown",
      "source": [
        "Desenvolva um código em Python, utilizando o paradigma orientado a objetos, que recupere os dados básicos de um Pokemon a partir das APIs disponíveis no repositório https://pokeapi.co/.\n",
        "<br>\n",
        "Consulte a documentação para identificar os atributos. É necessário ao menos considerar 4 atributos da raiz do payload da API."
      ],
      "metadata": {
        "id": "8tqyyBPIqLIT"
      }
    },
    {
      "cell_type": "code",
      "execution_count": null,
      "metadata": {
        "id": "SoVGP_oVp162"
      },
      "outputs": [],
      "source": [
        "import requests"
      ]
    },
    {
      "cell_type": "code",
      "source": [
        "def main():\n",
        "  #criar uma variável global para receber o input de qual pokemon buscar\n",
        "  global pokemon\n",
        "  pokemon = str(input('Informe o pokemon pelo seu nome: '))\n",
        "  api = f'https://pokeapi.co/api/v2/pokemon/{pokemon}'\n",
        "  resp = requests.get(api)\n",
        "  poke = resp.json() #retorna o dicionário\n",
        "  #chamando métodos\n",
        "  busca_especie(poke)\n",
        "  busca_peso(poke)\n",
        "  busca_itens(poke)\n",
        "  busca_habilidades(poke)\n",
        "\n",
        "if __name__ == '__main__':\n",
        "  main()\n"
      ],
      "metadata": {
        "colab": {
          "base_uri": "https://localhost:8080/"
        },
        "id": "5EZQwEsnp5cs",
        "outputId": "129f7ff4-15b7-4362-d2fe-a70bb46451e2"
      },
      "execution_count": null,
      "outputs": [
        {
          "output_type": "stream",
          "name": "stdout",
          "text": [
            "Informe o pokemon pelo seu nome: ditto\n",
            "Espécie de ditto\n",
            "ditto\n",
            "Peso de ditto\n",
            "40\n",
            "Itens de ditto\n",
            "metal-powder\n",
            "quick-powder\n",
            "Habilidades de ditto\n",
            "limber\n",
            "imposter\n"
          ]
        }
      ]
    },
    {
      "cell_type": "code",
      "source": [
        "#função para recuperar as habilidades do pokemon\n",
        "#a api retorna uma lista pois pode ter mais de uma habilidade\n",
        "def busca_habilidades(poke):\n",
        "  print(f'Habilidades de {pokemon}')\n",
        "  for habilidade in poke['abilities']:\n",
        "    print(habilidade['ability']['name'])\n"
      ],
      "metadata": {
        "id": "8SZB1mzPr7RJ"
      },
      "execution_count": null,
      "outputs": []
    },
    {
      "cell_type": "code",
      "source": [
        "#função para recuperar os itens possuídos do pokemon\n",
        "#a api retorna uma lista pois pode ter mais de um item\n",
        "def busca_itens(poke):\n",
        "  print(f'Itens de {pokemon}')\n",
        "  for item in poke['held_items']:\n",
        "    print(item['item']['name'])"
      ],
      "metadata": {
        "id": "sCtUDkv8t0ld"
      },
      "execution_count": null,
      "outputs": []
    },
    {
      "cell_type": "code",
      "source": [
        "#função para recuperar a espécie do pokemon\n",
        "def busca_especie(poke):\n",
        "  print(f'Espécie de {pokemon}')\n",
        "  print(poke['species']['name'])"
      ],
      "metadata": {
        "id": "-MCoFAXuuyjo"
      },
      "execution_count": null,
      "outputs": []
    },
    {
      "cell_type": "code",
      "source": [
        "#função para recuperar o peso do pokemon\n",
        "def busca_peso(poke):\n",
        "  print(f'Peso de {pokemon}')\n",
        "  print(poke['weight'])"
      ],
      "metadata": {
        "id": "Ra3dN5uJvt5H"
      },
      "execution_count": null,
      "outputs": []
    }
  ]
}